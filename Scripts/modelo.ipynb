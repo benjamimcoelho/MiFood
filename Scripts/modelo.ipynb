{
 "cells": [
  {
   "cell_type": "markdown",
   "id": "4ce81936-df04-441e-aed7-c405ae3b5a6b",
   "metadata": {},
   "source": [
    "# CARREGAR DADOS"
   ]
  },
  {
   "cell_type": "code",
   "execution_count": 4,
   "id": "f99e03f0-8214-4bd0-a01f-621b6104f675",
   "metadata": {},
   "outputs": [],
   "source": [
    "import pandas as pd\n",
    "df = pd.read_csv(r'../dados/probing.csv')"
   ]
  },
  {
   "cell_type": "code",
   "execution_count": 5,
   "id": "ed3b8335-b781-45a8-b20d-15662d0ad19e",
   "metadata": {},
   "outputs": [
    {
     "data": {
      "text/plain": [
       "(3234, 14)"
      ]
     },
     "execution_count": 5,
     "metadata": {},
     "output_type": "execute_result"
    }
   ],
   "source": [
    "df.shape"
   ]
  },
  {
   "cell_type": "markdown",
   "id": "789c1499-2424-44c4-84cb-25df4814e0e3",
   "metadata": {},
   "source": [
    "# Analisar Dados"
   ]
  },
  {
   "cell_type": "code",
   "execution_count": 6,
   "id": "906f2c06-ef2b-41c4-8968-ee0ea0ca7ae9",
   "metadata": {},
   "outputs": [
    {
     "name": "stdout",
     "output_type": "stream",
     "text": [
      "<class 'pandas.core.frame.DataFrame'>\n",
      "RangeIndex: 3234 entries, 0 to 3233\n",
      "Data columns (total 14 columns):\n",
      " #   Column       Non-Null Count  Dtype  \n",
      "---  ------       --------------  -----  \n",
      " 0   Indice       3234 non-null   int64  \n",
      " 1   Mes          3234 non-null   int64  \n",
      " 2   Dia          3234 non-null   int64  \n",
      " 3   Dia Semana   3234 non-null   int64  \n",
      " 4   Hora         3234 non-null   int64  \n",
      " 5   Minuto       3234 non-null   int64  \n",
      " 6   Clima        3234 non-null   object \n",
      " 7   Temperatura  3234 non-null   float64\n",
      " 8   IsDay        3234 non-null   int64  \n",
      " 9   Sopa         689 non-null    object \n",
      " 10  Prato        689 non-null    object \n",
      " 11  IsMeat       689 non-null    float64\n",
      " 12  isFeriado    3234 non-null   int64  \n",
      " 13  Probes       3234 non-null   int64  \n",
      "dtypes: float64(2), int64(9), object(3)\n",
      "memory usage: 353.8+ KB\n"
     ]
    }
   ],
   "source": [
    "df.info()"
   ]
  },
  {
   "cell_type": "code",
   "execution_count": 7,
   "id": "6d63cfaa-a531-4f0f-b7d4-cc90d5b20aea",
   "metadata": {},
   "outputs": [
    {
     "data": {
      "text/html": [
       "<div>\n",
       "<style scoped>\n",
       "    .dataframe tbody tr th:only-of-type {\n",
       "        vertical-align: middle;\n",
       "    }\n",
       "\n",
       "    .dataframe tbody tr th {\n",
       "        vertical-align: top;\n",
       "    }\n",
       "\n",
       "    .dataframe thead th {\n",
       "        text-align: right;\n",
       "    }\n",
       "</style>\n",
       "<table border=\"1\" class=\"dataframe\">\n",
       "  <thead>\n",
       "    <tr style=\"text-align: right;\">\n",
       "      <th></th>\n",
       "      <th>Indice</th>\n",
       "      <th>Mes</th>\n",
       "      <th>Dia</th>\n",
       "      <th>Dia Semana</th>\n",
       "      <th>Hora</th>\n",
       "      <th>Minuto</th>\n",
       "      <th>Temperatura</th>\n",
       "      <th>IsDay</th>\n",
       "      <th>IsMeat</th>\n",
       "      <th>isFeriado</th>\n",
       "      <th>Probes</th>\n",
       "    </tr>\n",
       "  </thead>\n",
       "  <tbody>\n",
       "    <tr>\n",
       "      <th>count</th>\n",
       "      <td>3234.000000</td>\n",
       "      <td>3234.000000</td>\n",
       "      <td>3234.000000</td>\n",
       "      <td>3234.000000</td>\n",
       "      <td>3234.000000</td>\n",
       "      <td>3234.000000</td>\n",
       "      <td>3234.000000</td>\n",
       "      <td>3234.000000</td>\n",
       "      <td>689.000000</td>\n",
       "      <td>3234.000000</td>\n",
       "      <td>3234.000000</td>\n",
       "    </tr>\n",
       "    <tr>\n",
       "      <th>mean</th>\n",
       "      <td>1616.500000</td>\n",
       "      <td>4.247681</td>\n",
       "      <td>19.067409</td>\n",
       "      <td>2.878788</td>\n",
       "      <td>11.596784</td>\n",
       "      <td>29.537724</td>\n",
       "      <td>12.941033</td>\n",
       "      <td>0.277056</td>\n",
       "      <td>0.657475</td>\n",
       "      <td>0.345393</td>\n",
       "      <td>24.196970</td>\n",
       "    </tr>\n",
       "    <tr>\n",
       "      <th>std</th>\n",
       "      <td>933.719712</td>\n",
       "      <td>0.431732</td>\n",
       "      <td>10.036360</td>\n",
       "      <td>1.996632</td>\n",
       "      <td>6.900293</td>\n",
       "      <td>17.360677</td>\n",
       "      <td>4.398911</td>\n",
       "      <td>0.447614</td>\n",
       "      <td>0.474899</td>\n",
       "      <td>0.475570</td>\n",
       "      <td>60.739615</td>\n",
       "    </tr>\n",
       "    <tr>\n",
       "      <th>min</th>\n",
       "      <td>0.000000</td>\n",
       "      <td>4.000000</td>\n",
       "      <td>1.000000</td>\n",
       "      <td>0.000000</td>\n",
       "      <td>0.000000</td>\n",
       "      <td>0.000000</td>\n",
       "      <td>4.320000</td>\n",
       "      <td>0.000000</td>\n",
       "      <td>0.000000</td>\n",
       "      <td>0.000000</td>\n",
       "      <td>0.000000</td>\n",
       "    </tr>\n",
       "    <tr>\n",
       "      <th>25%</th>\n",
       "      <td>808.250000</td>\n",
       "      <td>4.000000</td>\n",
       "      <td>19.000000</td>\n",
       "      <td>1.000000</td>\n",
       "      <td>6.000000</td>\n",
       "      <td>14.000000</td>\n",
       "      <td>9.960000</td>\n",
       "      <td>0.000000</td>\n",
       "      <td>0.000000</td>\n",
       "      <td>0.000000</td>\n",
       "      <td>6.000000</td>\n",
       "    </tr>\n",
       "    <tr>\n",
       "      <th>50%</th>\n",
       "      <td>1616.500000</td>\n",
       "      <td>4.000000</td>\n",
       "      <td>23.000000</td>\n",
       "      <td>3.000000</td>\n",
       "      <td>12.000000</td>\n",
       "      <td>29.000000</td>\n",
       "      <td>12.260000</td>\n",
       "      <td>0.000000</td>\n",
       "      <td>1.000000</td>\n",
       "      <td>0.000000</td>\n",
       "      <td>7.000000</td>\n",
       "    </tr>\n",
       "    <tr>\n",
       "      <th>75%</th>\n",
       "      <td>2424.750000</td>\n",
       "      <td>4.000000</td>\n",
       "      <td>26.000000</td>\n",
       "      <td>5.000000</td>\n",
       "      <td>17.000000</td>\n",
       "      <td>45.000000</td>\n",
       "      <td>15.360000</td>\n",
       "      <td>1.000000</td>\n",
       "      <td>1.000000</td>\n",
       "      <td>1.000000</td>\n",
       "      <td>12.000000</td>\n",
       "    </tr>\n",
       "    <tr>\n",
       "      <th>max</th>\n",
       "      <td>3233.000000</td>\n",
       "      <td>5.000000</td>\n",
       "      <td>30.000000</td>\n",
       "      <td>6.000000</td>\n",
       "      <td>23.000000</td>\n",
       "      <td>59.000000</td>\n",
       "      <td>25.960000</td>\n",
       "      <td>1.000000</td>\n",
       "      <td>1.000000</td>\n",
       "      <td>1.000000</td>\n",
       "      <td>450.000000</td>\n",
       "    </tr>\n",
       "  </tbody>\n",
       "</table>\n",
       "</div>"
      ],
      "text/plain": [
       "            Indice          Mes          Dia   Dia Semana         Hora  \\\n",
       "count  3234.000000  3234.000000  3234.000000  3234.000000  3234.000000   \n",
       "mean   1616.500000     4.247681    19.067409     2.878788    11.596784   \n",
       "std     933.719712     0.431732    10.036360     1.996632     6.900293   \n",
       "min       0.000000     4.000000     1.000000     0.000000     0.000000   \n",
       "25%     808.250000     4.000000    19.000000     1.000000     6.000000   \n",
       "50%    1616.500000     4.000000    23.000000     3.000000    12.000000   \n",
       "75%    2424.750000     4.000000    26.000000     5.000000    17.000000   \n",
       "max    3233.000000     5.000000    30.000000     6.000000    23.000000   \n",
       "\n",
       "            Minuto  Temperatura        IsDay      IsMeat    isFeriado  \\\n",
       "count  3234.000000  3234.000000  3234.000000  689.000000  3234.000000   \n",
       "mean     29.537724    12.941033     0.277056    0.657475     0.345393   \n",
       "std      17.360677     4.398911     0.447614    0.474899     0.475570   \n",
       "min       0.000000     4.320000     0.000000    0.000000     0.000000   \n",
       "25%      14.000000     9.960000     0.000000    0.000000     0.000000   \n",
       "50%      29.000000    12.260000     0.000000    1.000000     0.000000   \n",
       "75%      45.000000    15.360000     1.000000    1.000000     1.000000   \n",
       "max      59.000000    25.960000     1.000000    1.000000     1.000000   \n",
       "\n",
       "            Probes  \n",
       "count  3234.000000  \n",
       "mean     24.196970  \n",
       "std      60.739615  \n",
       "min       0.000000  \n",
       "25%       6.000000  \n",
       "50%       7.000000  \n",
       "75%      12.000000  \n",
       "max     450.000000  "
      ]
     },
     "execution_count": 7,
     "metadata": {},
     "output_type": "execute_result"
    }
   ],
   "source": [
    "df.describe()"
   ]
  },
  {
   "cell_type": "markdown",
   "id": "238b868d-e721-4a15-845b-a05ac3236bec",
   "metadata": {},
   "source": [
    "# Tratamento de dados"
   ]
  },
  {
   "cell_type": "code",
   "execution_count": 8,
   "id": "e97f4cd8-f5b2-4402-98fd-4a05f7b3fb79",
   "metadata": {},
   "outputs": [],
   "source": [
    "df['Clima']=df['Clima'].astype('category').cat.codes\n",
    "df['Sopa']=df['Sopa'].astype('category').cat.codes\n",
    "df['Prato']=df['Prato'].astype('category').cat.codes\n",
    "\n",
    "df['IsMeat'] = df['IsMeat'].fillna(-1)"
   ]
  },
  {
   "cell_type": "code",
   "execution_count": 9,
   "id": "9dd25240-19e6-4820-b592-ca9441f2abb4",
   "metadata": {},
   "outputs": [
    {
     "name": "stdout",
     "output_type": "stream",
     "text": [
      "<class 'pandas.core.frame.DataFrame'>\n",
      "RangeIndex: 3234 entries, 0 to 3233\n",
      "Data columns (total 14 columns):\n",
      " #   Column       Non-Null Count  Dtype  \n",
      "---  ------       --------------  -----  \n",
      " 0   Indice       3234 non-null   int64  \n",
      " 1   Mes          3234 non-null   int64  \n",
      " 2   Dia          3234 non-null   int64  \n",
      " 3   Dia Semana   3234 non-null   int64  \n",
      " 4   Hora         3234 non-null   int64  \n",
      " 5   Minuto       3234 non-null   int64  \n",
      " 6   Clima        3234 non-null   int8   \n",
      " 7   Temperatura  3234 non-null   float64\n",
      " 8   IsDay        3234 non-null   int64  \n",
      " 9   Sopa         3234 non-null   int8   \n",
      " 10  Prato        3234 non-null   int8   \n",
      " 11  IsMeat       3234 non-null   float64\n",
      " 12  isFeriado    3234 non-null   int64  \n",
      " 13  Probes       3234 non-null   int64  \n",
      "dtypes: float64(2), int64(9), int8(3)\n",
      "memory usage: 287.5 KB\n"
     ]
    }
   ],
   "source": [
    "df.info()"
   ]
  },
  {
   "cell_type": "code",
   "execution_count": 10,
   "id": "c3acf4bb-4f53-49cb-a193-286794565528",
   "metadata": {},
   "outputs": [
    {
     "data": {
      "text/plain": [
       "Indice         0\n",
       "Mes            0\n",
       "Dia            0\n",
       "Dia Semana     0\n",
       "Hora           0\n",
       "Minuto         0\n",
       "Clima          0\n",
       "Temperatura    0\n",
       "IsDay          0\n",
       "Sopa           0\n",
       "Prato          0\n",
       "IsMeat         0\n",
       "isFeriado      0\n",
       "Probes         0\n",
       "dtype: int64"
      ]
     },
     "execution_count": 10,
     "metadata": {},
     "output_type": "execute_result"
    }
   ],
   "source": [
    "df.isna().sum()"
   ]
  },
  {
   "cell_type": "code",
   "execution_count": 11,
   "id": "8c758653-b9e3-4496-8a49-ad07b0a3c131",
   "metadata": {},
   "outputs": [],
   "source": [
    "from sklearn.preprocessing import MinMaxScaler\n",
    "from sklearn.model_selection import train_test_split\n",
    "\n",
    "X = df.drop(['Indice','Probes'], axis=1)\n",
    "y = df['Probes']\n",
    "\n",
    "X_train, X_test, y_train, y_test  = train_test_split(X,y , test_size=0.2, random_state=25)\n",
    "\n",
    "scaler = MinMaxScaler(feature_range=(0,1))\n",
    "X_train_scaled = scaler.fit_transform(X_train)\n",
    "X_test_scaled = scaler.fit_transform(X_test)\n"
   ]
  },
  {
   "cell_type": "markdown",
   "id": "827478f3-bdcd-4279-b264-44891afc34e4",
   "metadata": {},
   "source": [
    "# Criar o modelo"
   ]
  },
  {
   "cell_type": "code",
   "execution_count": 12,
   "id": "b4d5344d-f127-4213-b381-1ba35798dfba",
   "metadata": {},
   "outputs": [
    {
     "name": "stdout",
     "output_type": "stream",
     "text": [
      "Model: \"sequential\"\n",
      "_________________________________________________________________\n",
      "Layer (type)                 Output Shape              Param #   \n",
      "=================================================================\n",
      "flatten (Flatten)            (None, 12)                0         \n",
      "_________________________________________________________________\n",
      "dense (Dense)                (None, 512)               6656      \n",
      "_________________________________________________________________\n",
      "dense_1 (Dense)              (None, 1024)              525312    \n",
      "_________________________________________________________________\n",
      "dense_2 (Dense)              (None, 1024)              1049600   \n",
      "_________________________________________________________________\n",
      "dense_3 (Dense)              (None, 512)               524800    \n",
      "_________________________________________________________________\n",
      "dense_4 (Dense)              (None, 1)                 513       \n",
      "=================================================================\n",
      "Total params: 2,106,881\n",
      "Trainable params: 2,106,881\n",
      "Non-trainable params: 0\n",
      "_________________________________________________________________\n"
     ]
    }
   ],
   "source": [
    "from tensorflow import keras\n",
    "from tensorflow.keras.models import Sequential, Model\n",
    "from tensorflow.keras.layers import Flatten, Dense,Activation, Input\n",
    "from livelossplot.inputs.tf_keras import PlotLossesCallback\n",
    "\n",
    "model = Sequential()\n",
    "model.add(Flatten(input_shape=(12,)))\n",
    "model.add(Dense(512, activation='relu'))\n",
    "model.add(Dense(1024, activation='relu'))\n",
    "model.add(Dense(1024, activation='relu'))\n",
    "model.add(Dense(512, activation='relu'))\n",
    "model.add(Dense(1, activation='relu'))\n",
    "\n",
    "model.summary()"
   ]
  },
  {
   "cell_type": "code",
   "execution_count": 13,
   "id": "b106399d-6ef9-46ea-acf9-2d93f8e70e48",
   "metadata": {},
   "outputs": [
    {
     "data": {
      "image/png": "[encoded data removed]",
      "text/plain": [
       "<Figure size 864x576 with 2 Axes>"
      ]
     },
     "metadata": {
      "needs_background": "light"
     },
     "output_type": "display_data"
    },
    {
     "name": "stdout",
     "output_type": "stream",
     "text": [
      "Loss\n",
      "\ttraining         \t (min:  760.178, max: 4248.541, cur:  908.319)\n",
      "\tvalidation       \t (min: 1301.339, max: 2545.577, cur: 1452.496)\n",
      "mean_absolute_error\n",
      "\ttraining         \t (min:   10.268, max:   29.844, cur:   11.163)\n",
      "\tvalidation       \t (min:   11.496, max:   27.593, cur:   11.496)\n"
     ]
    }
   ],
   "source": [
    "model.compile(optimizer='adam', loss='mean_squared_error', metrics='mean_absolute_error')\n",
    "\n",
    "\n",
    "\n",
    "history = model.fit(X_train, y_train, epochs=120, batch_size=1024, validation_data=(X_test,y_test), callbacks=[PlotLossesCallback()])"
   ]
  },
  {
   "cell_type": "markdown",
   "id": "46f8919a-f618-43a1-b96d-da6ef390fc67",
   "metadata": {},
   "source": [
    "# Guardar o modelo"
   ]
  },
  {
   "cell_type": "code",
   "execution_count": 15,
   "id": "e95cd041-76ac-439a-8a76-f1036046a982",
   "metadata": {},
   "outputs": [
    {
     "name": "stdout",
     "output_type": "stream",
     "text": [
      "INFO:tensorflow:Assets written to: ../dados/modelo\\assets\n"
     ]
    }
   ],
   "source": [
    "model.save('../dados/modelo')"
   ]
  },
  {
   "cell_type": "code",
   "execution_count": 16,
   "id": "03f895a1-f294-43b3-8949-3247684d1b0c",
   "metadata": {},
   "outputs": [
    {
     "name": "stdout",
     "output_type": "stream",
     "text": [
      "Model: \"sequential\"\n",
      "_________________________________________________________________\n",
      "Layer (type)                 Output Shape              Param #   \n",
      "=================================================================\n",
      "flatten (Flatten)            (None, 12)                0         \n",
      "_________________________________________________________________\n",
      "dense (Dense)                (None, 512)               6656      \n",
      "_________________________________________________________________\n",
      "dense_1 (Dense)              (None, 1024)              525312    \n",
      "_________________________________________________________________\n",
      "dense_2 (Dense)              (None, 1024)              1049600   \n",
      "_________________________________________________________________\n",
      "dense_3 (Dense)              (None, 512)               524800    \n",
      "_________________________________________________________________\n",
      "dense_4 (Dense)              (None, 1)                 513       \n",
      "=================================================================\n",
      "Total params: 2,106,881\n",
      "Trainable params: 2,106,881\n",
      "Non-trainable params: 0\n",
      "_________________________________________________________________\n"
     ]
    }
   ],
   "source": [
    "from tensorflow.keras.models import load_model\n",
    "\n",
    "new_model = load_model('../dados/modelo')\n",
    "\n",
    "# Check its architecture\n",
    "new_model.summary()"
   ]
  },
  {
   "cell_type": "code",
   "execution_count": 13,
   "id": "95e4ad1f-f34f-4c6e-8a55-d72303d03069",
   "metadata": {},
   "outputs": [
    {
     "name": "stdout",
     "output_type": "stream",
     "text": [
      "(647, 1)\n"
     ]
    }
   ],
   "source": [
    "print(new_model.predict(X_test).shape)"
   ]
  },
  {
   "cell_type": "code",
   "execution_count": 14,
   "id": "f1d1cf83-a32c-4079-be5a-49fe82e2f2ce",
   "metadata": {},
   "outputs": [
    {
     "name": "stdout",
     "output_type": "stream",
     "text": [
      "[[111.971085]\n",
      " [101.14739 ]\n",
      " [143.17307 ]\n",
      " ...\n",
      " [107.51179 ]\n",
      " [ 14.829517]\n",
      " [  7.601173]]\n"
     ]
    }
   ],
   "source": [
    "print(new_model.predict(df.drop(['Indice','Probes'],axis=1)))\n",
    "\n",
    "\n",
    "\n"
   ]
  },
  {
   "cell_type": "code",
   "execution_count": null,
   "id": "c33903a5-2bed-4187-9fac-f3ba38a52aa9",
   "metadata": {},
   "outputs": [],
   "source": []
  },
  {
   "cell_type": "code",
   "execution_count": null,
   "id": "828da0e8-5900-4941-9949-58b7b5804d2b",
   "metadata": {},
   "outputs": [],
   "source": []
  }
 ],
 "metadata": {
  "kernelspec": {
   "display_name": "Python 3 (ipykernel)",
   "language": "python",
   "name": "python3"
  },
  "language_info": {
   "codemirror_mode": {
    "name": "ipython",
    "version": 3
   },
   "file_extension": ".py",
   "mimetype": "text/x-python",
   "name": "python",
   "nbconvert_exporter": "python",
   "pygments_lexer": "ipython3",
   "version": "3.8.13"
  }
 },
 "nbformat": 4,
 "nbformat_minor": 5
}
